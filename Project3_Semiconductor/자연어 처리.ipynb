{
 "cells": [
  {
   "cell_type": "markdown",
   "id": "53b3f35b",
   "metadata": {},
   "source": [
    "- seq2seq\n",
    " - 시퀀스-투-시퀀스(Sequence-to-Sequence)는 입력된 시퀀스로부터 다른 도메인의 시퀀스를 출력하는 다양한 분야에서 사용되는 모델입니다. 예를 들어 챗봇(Chatbot)과 기계 번역(Machine Translation)이 그러한 대표적인 예인데, 입력 시퀀스와 출력 시퀀스를 각각 질문과 대답으로 구성하면 챗봇으로 만들 수 있고, 입력 시퀀스와 출력 시퀀스를 각각 입력 문장과 번역 문장으로 만들면 번역기로 만들 수 있습니다. 그 외에도 내용 요약(Text Summarization), STT(Speech to Text) 등에서 쓰일 수 있습니다.\n"
   ]
  },
  {
   "cell_type": "markdown",
   "id": "0654345d",
   "metadata": {},
   "source": [
    "- Attention\n",
    " - RNN에 기반한 seq2seq 모델에는 크게 두 가지 문제가 있습니다.\n",
    " - 첫째, 하나의 고정된 크기의 벡터에 모든 정보를 압축하려고 하니까 정보 손실이 발생합니다.\n",
    " - 둘째, RNN의 고질적인 문제인 기울기 소실(Vanishing Gradient) 문제가 존재합니다.\n",
    "\n",
    " - 즉, 결국 이는 기계 번역 분야에서 입력 문장이 길면 번역 품질이 떨어지는 현상으로 나타났습니다. 이를 위한 대안으로 입력 시퀀스가 길어지면 출력 시퀀스의 정확도가 떨어지는 것을 보정해주기 위한 등장한 기법인 어텐션(attention)을 활용할 수 있다.\n",
    "\n",
    " - 어텐션의 기본 아이디어는 디코더에서 출력 단어를 예측하는 매 시점(time step)마다, 인코더에서의 전체 입력 문장을 다시 한 번 참고한다는 점입니다. 단, 전체 입력 문장을 전부 다 동일한 비율로 참고하는 것이 아니라, 해당 시점에서 예측해야할 단어와 연관이 있는 입력 단어 부분을 좀 더 집중(attention)해서 보게 됩니다.\n",
    "\n",
    " - 어텐션 함수는 주어진 '쿼리(Query)'에 대해서 모든 '키(Key)'와의 유사도를 각각 구합니다. 그리고 구해낸 이 유사도를 가중치로 하여 키와 맵핑되어있는 각각의 '값(Value)'에 반영해줍니다. 그리고 유사도가 반영된 '값(Value)'을 모두 가중합하여 리턴합니다.\n",
    " \n",
    " - 어텐션 중에서는 셀프 어텐션(self-attention)이라는 것이 있습니다. 단지 어텐션을 자기 자신에게 수행한다는 의미입니다. 기존에는 디코더 셀의 은닉 상태가 Q이고 인코더 셀의 은닉 상태가 K라는 점에서 Q와 K가 서로 다른 값을 가지고 있었습니다. 그런데 셀프 어텐션에서는 Q, K, V가 전부 동일합니다.\n",
    "   - Q : 입력 문장의 모든 단어 벡터들\n",
    "   - K : 입력 문장의 모든 단어 벡터들\n",
    "   - V : 입력 문장의 모든 단어 벡터들\n",
    "\n",
    " -  '그 동물은 길을 건너지 않았다. 왜냐하면 그것은 너무 피곤하였기 때문이다.' 라는 예시에서 그것(it)에 해당하는 것은 과연 길(street)일까요? 동물(animal)일까요? 우리는 피곤한 주체가 동물이라는 것을 아주 쉽게 알 수 있지만 기계는 그렇지 않습니다. 하지만 셀프 어텐션은 입력 문장 내의 단어들끼리 유사도를 구하므로서 그것(it)이 동물(animal)과 연관되었을 확률이 높다는 것을 찾아냅니다.\n",
    "\n",
    " - Attention이 소스 시퀀스 전체 단어들과 타깃 시퀀스 단어 하나 사이를 연결하는데 쓰이는 반면 셀프 어텐션은 입력 시퀀스 전체 단어들 사이를 연결한다. 이런 Self-Attention을 통해서 각 Input Data들의 유사도를 추정할 수 있다. 만약 'The Animal didn't cross the street, because it was so tired'라는 문장에서 it이 Animal을 가리키는건지 street를 가리키는 것인지 알기 위해, 우리가 독해를 하면서 it이 무엇에서 오는건지 학습하는 것과 비슷한 방식을 거칠 수 있다\n",
    "\n"
   ]
  },
  {
   "cell_type": "markdown",
   "id": "bc7ee61c",
   "metadata": {},
   "source": [
    "- Transformer\n",
    " - 트랜스포머(Transformer)는 2017년 구글이 발표한 논문인 \"Attention is all you need\"에서 나온 모델로 기존의 seq2seq의 구조인 인코더-디코더를 따르면서도, 논문의 이름처럼 어텐션(Attention)만으로 구현한 모델입니다. 이 모델은 RNN을 사용하지 않고, 인코더-디코더 구조를 설계하였음에도 성능도 RNN보다 우수하다는 특징을 갖고있습니다.\n",
    "\n",
    " - 트랜스포머는 RNN 계열의 seq2seq를 대체하기 위해서 등장했습니다. 그리고 트랜스포머의 인코더는 RNN 인코더를, 트랜스포머의 디코더는 RNN 디코더를 대체할 수 있었습니다.\n",
    "\n",
    " - 트랜스포머는 RNN을 사용하지 않지만 기존의 seq2seq처럼 인코더에서 입력 시퀀스를 입력받고, 디코더에서 출력 시퀀스를 출력하는 인코더-디코더 구조를 유지하고 있습니다. 다만 다른 점은 인코더와 디코더라는 단위가 N개가 존재할 수 있다는 점입니다.\n",
    "\n",
    " - 이전 seq2seq 구조에서는 인코더와 디코더에서 각각 하나의 RNN이 t개의 시점(time-step)을 가지는 구조였다면 이번에는 인코더와 디코더라는 단위가 N개로 구성되는 구조입니다. 트랜스포머를 제안한 논문에서는 인코더와 디코더의 개수를 각각 6개를 사용하였습니다.\n",
    " - 트랜스포머는 단어 입력을 순차적으로 받는 방식이 아니므로 단어의 위치 정보를 다른 방식으로 알려줄 필요가 있습니다. 트랜스포머는 단어의 위치 정보를 얻기 위해서 각 단어의 임베딩 벡터에 위치 정보들을 더하여 모델의 입력으로 사용하는데, 이를 포지셔널 인코딩(positional encoding)이라고 합니다.\n",
    "\n",
    " - 트랜스포머의 인코더는 셀프 어텐션이라는 메커니즘을 통해 문장을 이해합니다. RNN과 그 동작 방식은 다르지만, RNN이 텍스트 분류나 개체명 인식과 같은 다양한 자연어 처리 태스크에 쓰일 수 있다면 트랜스포머의 인코더 또한 가능할 것입니다.\n",
    "실제로 트랜스포머의 인코더는 다양한 분야의 자연어 처리 태스크에서 사용될 수 있었고, 이 아이디어는 후에 배우게 될 BERT라는 모델로 이어지게 됩니다.\n",
    "\n",
    " - 트랜스포머에서 사용되는 세 가지의 어텐션에 대해서 간단히 정리해봅시다. 첫번째 인코더의 셀프 어텐션은 인코더에서 이루어지지만, 두번째 디코더의 마스크드 셀프 어텐션과 세번째 디코더의 인코더-디코더 어텐션은 디코더에서 이루어집니다. 셀프 어텐션은 본질적으로 Query, Key, Value가 동일한 경우를 말합니다. 반면, 세번째 인코더-디코더 어텐션에서는 Query가 디코더의 벡터인 반면에 Key와 Value가 인코더의 벡터이므로 셀프 어텐션이라고 부르지 않습니다.\n",
    " \n",
    " - 주의할 점은 여기서 Query, Key 등이 같다는 것은 벡터의 값이 같다는 것이 아니라 벡터의 출처가 같다는 의미입니다.\n",
    " \n",
    "\n"
   ]
  },
  {
   "cell_type": "markdown",
   "id": "29e7cd90",
   "metadata": {},
   "source": [
    "정리하면 다음과 같습니다.\n",
    "    - 인코더의 셀프 어텐션 : Query = Key = Value\n",
    "    - 디코더의 마스크드 셀프 어텐션 : Query = Key = Value\n",
    "    - 디코더의 인코더-디코더 어텐션 : Query : 디코더 벡터 / Key = Value : 인코더 벡터\n",
    "\n",
    "  - 세 개의 어텐션에 추가적으로 '멀티 헤드'라는 이름이 붙어있습니다. 이는 트랜스포머가 어텐션을 병렬적으로 수행하는 방법을 의미합니다. \n"
   ]
  },
  {
   "cell_type": "markdown",
   "id": "566f229c",
   "metadata": {},
   "source": [
    "BERT\n",
    " - BERT는 2018년에 공개되어 등장과 동시에 수많은 NLP 태스크에서 최고 성능을 보여주면서 명실공히 NLP의 한 획을 그은 모델로 평가받고 있습니다.\n",
    "\n",
    " - BERT는 이전 챕터에서 배웠던 트랜스포머를 이용하여 구현되었으며, 위키피디아(25억 단어)와 BooksCorpus(8억 단어)와 같은 레이블이 없는 텍스트 데이터로 사전 훈련된 언어 모델입니다.\n",
    "\n",
    " - BERT가 높은 성능을 얻을 수 있었던 것은, 레이블이 없는 방대한 데이터로 사전 훈련된 모델을 가지고, 레이블이 있는 다른 작업(Task)에서 추가 훈련과 함께 하이퍼파라미터를 재조정하여 이 모델을 사용하면 성능이 높게 나오는 기존의 사례들을 참고하였기 때문입니다. 다른 작업에 대해서 파라미터 재조정을 위한 추가 훈련 과정을 파인 튜닝(Fine-tuning)이라고 합니다.\n",
    "\n",
    "BERT(Bidirectional Encoder Representations from Transformers)는 2018년에 구글이 공개한 사전 훈련된 모델\n",
    "\n",
    "https://wikidocs.net/115055\n",
    "\n",
    "https://www.youtube.com/watch?v=LEtLfx1dS7Q&list=PL7ZVZgsnLwEEoHQAElEPg7l7T6nt25I3N&index=16\n"
   ]
  },
  {
   "cell_type": "markdown",
   "id": "262eb87b",
   "metadata": {},
   "source": [
    "### Token Embeddings\n",
    "\n",
    "* Word Piece 임베딩 방식 사용\n",
    "* 자주 등장하면서 가장 긴 길이의 sub-word를 하나의 단위로 생성\n",
    "* 즉, 자주 등장하는 sub-word은 그 자체가 단위가 되고, 자주 등장하지 않는 단어(rare word)는 sub-word로 쪼개짐\n",
    "* 기존 워드 임베딩 방법은 Out-of-vocabulary (OOV) 문제가 존재하며, 희귀 단어, 이름, 숫자나 단어장에 없는 단어에 대한 학습, 번역에 어려움이 있음\n",
    "* Word Piece 임베딩은 모든 언어에 적용 가능하며, sub-word 단위로 단어를 분절하므로 OOV 처리에 효과적이고 정확도 상승효과도 있음\n"
   ]
  },
  {
   "cell_type": "markdown",
   "id": "dfdd2dd2",
   "metadata": {},
   "source": [
    "### Sentence Embeddings\n",
    "\n",
    "* BERT는 두 개의 문장을 문장 구분자([SEP])와 함께 결합\n",
    "* 입력 길이의 제한으로 두 문장은 합쳐서 512 subword 이하로 제한\n",
    "* 입력의 길이가 길어질수록 학습시간은 제곱으로 증가하기 때문에 적절한 입력 길이 설정 필요\n",
    "* 한국어는 보통 평균 20 subword로 구성되고 99%가 60 subword를 넘지 않기 때문에 입력 길이를 두 문장이 합쳐 128로 해도 충분\n",
    "* 간혹 긴 문장이 있으므로 우선 입력 길이 128로 제한하고 학습한 후, 128보다 긴 입력들을 모아 마지막에 따로 추가 학습하는 방식을 사용\n"
   ]
  },
  {
   "cell_type": "markdown",
   "id": "83b31c96",
   "metadata": {},
   "source": [
    "### Position Embedding\n",
    "\n",
    "* BERT는 저자의 이전 논문인 Transformer 모델을 착용\n",
    "* Transformer은 주로 사용하는 CNN, RNN 모델을 사용하지 않고 Self-Attention 모델을 사용\n",
    "* Self-Attention은 입력의 위치에 대해 고려하지 못하므로 입력 토큰의 위치 정보가 필요\n",
    "* Transformer 에서는 Sinusoid 함수를 이용한 Positional encoding을 사용하였고, BERT에서는 이를 변형하여 Position encoding을 사용\n",
    "* Position encoding은 단순하게 Token 순서대로 0, 1, 2, ...와 같이 순서대로 인코딩\n"
   ]
  },
  {
   "cell_type": "markdown",
   "id": "af7138cb",
   "metadata": {},
   "source": [
    "### 임베딩 취합\n",
    "\n",
    "* BERT는 위에서 소개한 3가지의 입력 임베딩(Token, Segment, Position 임베딩)을 취합하여 하나의 임베딩 값으로 생성\n",
    "* 임베딩의 합에 Layer Normalization과 Dropout을 적용하여 입력으로 사용\n"
   ]
  },
  {
   "cell_type": "code",
   "execution_count": null,
   "id": "ec00979a",
   "metadata": {},
   "outputs": [],
   "source": [
    "pip uninstall transformers"
   ]
  },
  {
   "cell_type": "code",
   "execution_count": null,
   "id": "49574393",
   "metadata": {},
   "outputs": [],
   "source": [
    "pip install transformers==3.0.0\n"
   ]
  },
  {
   "cell_type": "code",
   "execution_count": 15,
   "id": "8f68ab9d",
   "metadata": {},
   "outputs": [
    {
     "ename": "RuntimeError",
     "evalue": "Failed to import transformers.models.mctct.feature_extraction_mctct because of the following error (look up to see its traceback):\n[WinError 127] 지정된 프로시저를 찾을 수 없습니다",
     "output_type": "error",
     "traceback": [
      "\u001b[1;31m---------------------------------------------------------------------------\u001b[0m",
      "\u001b[1;31mOSError\u001b[0m                                   Traceback (most recent call last)",
      "File \u001b[1;32m~\\anaconda3\\lib\\site-packages\\transformers\\utils\\import_utils.py:1076\u001b[0m, in \u001b[0;36m_LazyModule._get_module\u001b[1;34m(self, module_name)\u001b[0m\n\u001b[0;32m   1075\u001b[0m \u001b[38;5;28;01mtry\u001b[39;00m:\n\u001b[1;32m-> 1076\u001b[0m     \u001b[38;5;28;01mreturn\u001b[39;00m \u001b[43mimportlib\u001b[49m\u001b[38;5;241;43m.\u001b[39;49m\u001b[43mimport_module\u001b[49m\u001b[43m(\u001b[49m\u001b[38;5;124;43m\"\u001b[39;49m\u001b[38;5;124;43m.\u001b[39;49m\u001b[38;5;124;43m\"\u001b[39;49m\u001b[43m \u001b[49m\u001b[38;5;241;43m+\u001b[39;49m\u001b[43m \u001b[49m\u001b[43mmodule_name\u001b[49m\u001b[43m,\u001b[49m\u001b[43m \u001b[49m\u001b[38;5;28;43mself\u001b[39;49m\u001b[38;5;241;43m.\u001b[39;49m\u001b[38;5;18;43m__name__\u001b[39;49m\u001b[43m)\u001b[49m\n\u001b[0;32m   1077\u001b[0m \u001b[38;5;28;01mexcept\u001b[39;00m \u001b[38;5;167;01mException\u001b[39;00m \u001b[38;5;28;01mas\u001b[39;00m e:\n",
      "File \u001b[1;32m~\\anaconda3\\lib\\importlib\\__init__.py:127\u001b[0m, in \u001b[0;36mimport_module\u001b[1;34m(name, package)\u001b[0m\n\u001b[0;32m    126\u001b[0m         level \u001b[38;5;241m+\u001b[39m\u001b[38;5;241m=\u001b[39m \u001b[38;5;241m1\u001b[39m\n\u001b[1;32m--> 127\u001b[0m \u001b[38;5;28;01mreturn\u001b[39;00m \u001b[43m_bootstrap\u001b[49m\u001b[38;5;241;43m.\u001b[39;49m\u001b[43m_gcd_import\u001b[49m\u001b[43m(\u001b[49m\u001b[43mname\u001b[49m\u001b[43m[\u001b[49m\u001b[43mlevel\u001b[49m\u001b[43m:\u001b[49m\u001b[43m]\u001b[49m\u001b[43m,\u001b[49m\u001b[43m \u001b[49m\u001b[43mpackage\u001b[49m\u001b[43m,\u001b[49m\u001b[43m \u001b[49m\u001b[43mlevel\u001b[49m\u001b[43m)\u001b[49m\n",
      "File \u001b[1;32m<frozen importlib._bootstrap>:1030\u001b[0m, in \u001b[0;36m_gcd_import\u001b[1;34m(name, package, level)\u001b[0m\n",
      "File \u001b[1;32m<frozen importlib._bootstrap>:1007\u001b[0m, in \u001b[0;36m_find_and_load\u001b[1;34m(name, import_)\u001b[0m\n",
      "File \u001b[1;32m<frozen importlib._bootstrap>:986\u001b[0m, in \u001b[0;36m_find_and_load_unlocked\u001b[1;34m(name, import_)\u001b[0m\n",
      "File \u001b[1;32m<frozen importlib._bootstrap>:680\u001b[0m, in \u001b[0;36m_load_unlocked\u001b[1;34m(spec)\u001b[0m\n",
      "File \u001b[1;32m<frozen importlib._bootstrap_external>:850\u001b[0m, in \u001b[0;36mexec_module\u001b[1;34m(self, module)\u001b[0m\n",
      "File \u001b[1;32m<frozen importlib._bootstrap>:228\u001b[0m, in \u001b[0;36m_call_with_frames_removed\u001b[1;34m(f, *args, **kwds)\u001b[0m\n",
      "File \u001b[1;32m~\\anaconda3\\lib\\site-packages\\transformers\\models\\mctct\\feature_extraction_mctct.py:23\u001b[0m, in \u001b[0;36m<module>\u001b[1;34m\u001b[0m\n\u001b[0;32m     22\u001b[0m \u001b[38;5;28;01mimport\u001b[39;00m \u001b[38;5;21;01mtorch\u001b[39;00m\n\u001b[1;32m---> 23\u001b[0m \u001b[38;5;28;01mimport\u001b[39;00m \u001b[38;5;21;01mtorchaudio\u001b[39;00m\n\u001b[0;32m     24\u001b[0m \u001b[38;5;28;01mfrom\u001b[39;00m \u001b[38;5;21;01mpackaging\u001b[39;00m \u001b[38;5;28;01mimport\u001b[39;00m version\n",
      "File \u001b[1;32m~\\anaconda3\\lib\\site-packages\\torchaudio\\__init__.py:1\u001b[0m, in \u001b[0;36m<module>\u001b[1;34m\u001b[0m\n\u001b[1;32m----> 1\u001b[0m \u001b[38;5;28;01mfrom\u001b[39;00m \u001b[38;5;21;01mtorchaudio\u001b[39;00m \u001b[38;5;28;01mimport\u001b[39;00m (  \u001b[38;5;66;03m# noqa: F401\u001b[39;00m\n\u001b[0;32m      2\u001b[0m     _extension,\n\u001b[0;32m      3\u001b[0m     compliance,\n\u001b[0;32m      4\u001b[0m     datasets,\n\u001b[0;32m      5\u001b[0m     functional,\n\u001b[0;32m      6\u001b[0m     io,\n\u001b[0;32m      7\u001b[0m     kaldi_io,\n\u001b[0;32m      8\u001b[0m     models,\n\u001b[0;32m      9\u001b[0m     pipelines,\n\u001b[0;32m     10\u001b[0m     sox_effects,\n\u001b[0;32m     11\u001b[0m     transforms,\n\u001b[0;32m     12\u001b[0m     utils,\n\u001b[0;32m     13\u001b[0m )\n\u001b[0;32m     14\u001b[0m \u001b[38;5;28;01mfrom\u001b[39;00m \u001b[38;5;21;01mtorchaudio\u001b[39;00m\u001b[38;5;21;01m.\u001b[39;00m\u001b[38;5;21;01mbackend\u001b[39;00m \u001b[38;5;28;01mimport\u001b[39;00m get_audio_backend, list_audio_backends, set_audio_backend\n",
      "File \u001b[1;32m~\\anaconda3\\lib\\site-packages\\torchaudio\\_extension.py:135\u001b[0m, in \u001b[0;36m<module>\u001b[1;34m\u001b[0m\n\u001b[0;32m    128\u001b[0m             \u001b[38;5;28;01mraise\u001b[39;00m \u001b[38;5;167;01mRuntimeError\u001b[39;00m(\n\u001b[0;32m    129\u001b[0m                 \u001b[38;5;124m\"\u001b[39m\u001b[38;5;124mDetected that PyTorch and TorchAudio were compiled with different CUDA versions. \u001b[39m\u001b[38;5;124m\"\u001b[39m\n\u001b[0;32m    130\u001b[0m                 \u001b[38;5;124mf\u001b[39m\u001b[38;5;124m\"\u001b[39m\u001b[38;5;124mPyTorch has CUDA version \u001b[39m\u001b[38;5;132;01m{\u001b[39;00mt_version\u001b[38;5;132;01m}\u001b[39;00m\u001b[38;5;124m whereas TorchAudio has CUDA version \u001b[39m\u001b[38;5;132;01m{\u001b[39;00mta_version\u001b[38;5;132;01m}\u001b[39;00m\u001b[38;5;124m. \u001b[39m\u001b[38;5;124m\"\u001b[39m\n\u001b[0;32m    131\u001b[0m                 \u001b[38;5;124m\"\u001b[39m\u001b[38;5;124mPlease install the TorchAudio version that matches your PyTorch version.\u001b[39m\u001b[38;5;124m\"\u001b[39m\n\u001b[0;32m    132\u001b[0m             )\n\u001b[1;32m--> 135\u001b[0m \u001b[43m_init_extension\u001b[49m\u001b[43m(\u001b[49m\u001b[43m)\u001b[49m\n\u001b[0;32m    136\u001b[0m _check_cuda_version()\n",
      "File \u001b[1;32m~\\anaconda3\\lib\\site-packages\\torchaudio\\_extension.py:105\u001b[0m, in \u001b[0;36m_init_extension\u001b[1;34m()\u001b[0m\n\u001b[0;32m    103\u001b[0m                 \u001b[38;5;28;01mpass\u001b[39;00m\n\u001b[1;32m--> 105\u001b[0m \u001b[43m_load_lib\u001b[49m\u001b[43m(\u001b[49m\u001b[38;5;124;43m\"\u001b[39;49m\u001b[38;5;124;43mlibtorchaudio\u001b[39;49m\u001b[38;5;124;43m\"\u001b[39;49m\u001b[43m)\u001b[49m\n\u001b[0;32m    106\u001b[0m \u001b[38;5;66;03m# This import is for initializing the methods registered via PyBind11\u001b[39;00m\n\u001b[0;32m    107\u001b[0m \u001b[38;5;66;03m# This has to happen after the base library is loaded\u001b[39;00m\n",
      "File \u001b[1;32m~\\anaconda3\\lib\\site-packages\\torchaudio\\_extension.py:52\u001b[0m, in \u001b[0;36m_load_lib\u001b[1;34m(lib)\u001b[0m\n\u001b[0;32m     51\u001b[0m     \u001b[38;5;28;01mreturn\u001b[39;00m \u001b[38;5;28;01mFalse\u001b[39;00m\n\u001b[1;32m---> 52\u001b[0m \u001b[43mtorch\u001b[49m\u001b[38;5;241;43m.\u001b[39;49m\u001b[43mops\u001b[49m\u001b[38;5;241;43m.\u001b[39;49m\u001b[43mload_library\u001b[49m\u001b[43m(\u001b[49m\u001b[43mpath\u001b[49m\u001b[43m)\u001b[49m\n\u001b[0;32m     53\u001b[0m torch\u001b[38;5;241m.\u001b[39mclasses\u001b[38;5;241m.\u001b[39mload_library(path)\n",
      "File \u001b[1;32m~\\anaconda3\\lib\\site-packages\\torch\\_ops.py:110\u001b[0m, in \u001b[0;36m_Ops.load_library\u001b[1;34m(self, path)\u001b[0m\n\u001b[0;32m    106\u001b[0m \u001b[38;5;28;01mwith\u001b[39;00m dl_open_guard():\n\u001b[0;32m    107\u001b[0m     \u001b[38;5;66;03m# Import the shared library into the process, thus running its\u001b[39;00m\n\u001b[0;32m    108\u001b[0m     \u001b[38;5;66;03m# static (global) initialization code in order to register custom\u001b[39;00m\n\u001b[0;32m    109\u001b[0m     \u001b[38;5;66;03m# operators with the JIT.\u001b[39;00m\n\u001b[1;32m--> 110\u001b[0m     \u001b[43mctypes\u001b[49m\u001b[38;5;241;43m.\u001b[39;49m\u001b[43mCDLL\u001b[49m\u001b[43m(\u001b[49m\u001b[43mpath\u001b[49m\u001b[43m)\u001b[49m\n\u001b[0;32m    111\u001b[0m \u001b[38;5;28mself\u001b[39m\u001b[38;5;241m.\u001b[39mloaded_libraries\u001b[38;5;241m.\u001b[39madd(path)\n",
      "File \u001b[1;32m~\\anaconda3\\lib\\ctypes\\__init__.py:382\u001b[0m, in \u001b[0;36mCDLL.__init__\u001b[1;34m(self, name, mode, handle, use_errno, use_last_error, winmode)\u001b[0m\n\u001b[0;32m    381\u001b[0m \u001b[38;5;28;01mif\u001b[39;00m handle \u001b[38;5;129;01mis\u001b[39;00m \u001b[38;5;28;01mNone\u001b[39;00m:\n\u001b[1;32m--> 382\u001b[0m     \u001b[38;5;28mself\u001b[39m\u001b[38;5;241m.\u001b[39m_handle \u001b[38;5;241m=\u001b[39m \u001b[43m_dlopen\u001b[49m\u001b[43m(\u001b[49m\u001b[38;5;28;43mself\u001b[39;49m\u001b[38;5;241;43m.\u001b[39;49m\u001b[43m_name\u001b[49m\u001b[43m,\u001b[49m\u001b[43m \u001b[49m\u001b[43mmode\u001b[49m\u001b[43m)\u001b[49m\n\u001b[0;32m    383\u001b[0m \u001b[38;5;28;01melse\u001b[39;00m:\n",
      "\u001b[1;31mOSError\u001b[0m: [WinError 127] 지정된 프로시저를 찾을 수 없습니다",
      "\nThe above exception was the direct cause of the following exception:\n",
      "\u001b[1;31mRuntimeError\u001b[0m                              Traceback (most recent call last)",
      "Input \u001b[1;32mIn [15]\u001b[0m, in \u001b[0;36m<cell line: 1>\u001b[1;34m()\u001b[0m\n\u001b[1;32m----> 1\u001b[0m \u001b[38;5;28;01mfrom\u001b[39;00m \u001b[38;5;21;01mtransformers\u001b[39;00m \u001b[38;5;28;01mimport\u001b[39;00m \u001b[38;5;241m*\u001b[39m\n",
      "File \u001b[1;32m<frozen importlib._bootstrap>:1053\u001b[0m, in \u001b[0;36m_handle_fromlist\u001b[1;34m(module, fromlist, import_, recursive)\u001b[0m\n",
      "File \u001b[1;32m<frozen importlib._bootstrap>:1055\u001b[0m, in \u001b[0;36m_handle_fromlist\u001b[1;34m(module, fromlist, import_, recursive)\u001b[0m\n",
      "File \u001b[1;32m~\\anaconda3\\lib\\site-packages\\transformers\\utils\\import_utils.py:1067\u001b[0m, in \u001b[0;36m_LazyModule.__getattr__\u001b[1;34m(self, name)\u001b[0m\n\u001b[0;32m   1065\u001b[0m \u001b[38;5;28;01melif\u001b[39;00m name \u001b[38;5;129;01min\u001b[39;00m \u001b[38;5;28mself\u001b[39m\u001b[38;5;241m.\u001b[39m_class_to_module\u001b[38;5;241m.\u001b[39mkeys():\n\u001b[0;32m   1066\u001b[0m     module \u001b[38;5;241m=\u001b[39m \u001b[38;5;28mself\u001b[39m\u001b[38;5;241m.\u001b[39m_get_module(\u001b[38;5;28mself\u001b[39m\u001b[38;5;241m.\u001b[39m_class_to_module[name])\n\u001b[1;32m-> 1067\u001b[0m     value \u001b[38;5;241m=\u001b[39m \u001b[38;5;28;43mgetattr\u001b[39;49m\u001b[43m(\u001b[49m\u001b[43mmodule\u001b[49m\u001b[43m,\u001b[49m\u001b[43m \u001b[49m\u001b[43mname\u001b[49m\u001b[43m)\u001b[49m\n\u001b[0;32m   1068\u001b[0m \u001b[38;5;28;01melse\u001b[39;00m:\n\u001b[0;32m   1069\u001b[0m     \u001b[38;5;28;01mraise\u001b[39;00m \u001b[38;5;167;01mAttributeError\u001b[39;00m(\u001b[38;5;124mf\u001b[39m\u001b[38;5;124m\"\u001b[39m\u001b[38;5;124mmodule \u001b[39m\u001b[38;5;132;01m{\u001b[39;00m\u001b[38;5;28mself\u001b[39m\u001b[38;5;241m.\u001b[39m\u001b[38;5;18m__name__\u001b[39m\u001b[38;5;132;01m}\u001b[39;00m\u001b[38;5;124m has no attribute \u001b[39m\u001b[38;5;132;01m{\u001b[39;00mname\u001b[38;5;132;01m}\u001b[39;00m\u001b[38;5;124m\"\u001b[39m)\n",
      "File \u001b[1;32m~\\anaconda3\\lib\\site-packages\\transformers\\utils\\import_utils.py:1066\u001b[0m, in \u001b[0;36m_LazyModule.__getattr__\u001b[1;34m(self, name)\u001b[0m\n\u001b[0;32m   1064\u001b[0m     value \u001b[38;5;241m=\u001b[39m \u001b[38;5;28mself\u001b[39m\u001b[38;5;241m.\u001b[39m_get_module(name)\n\u001b[0;32m   1065\u001b[0m \u001b[38;5;28;01melif\u001b[39;00m name \u001b[38;5;129;01min\u001b[39;00m \u001b[38;5;28mself\u001b[39m\u001b[38;5;241m.\u001b[39m_class_to_module\u001b[38;5;241m.\u001b[39mkeys():\n\u001b[1;32m-> 1066\u001b[0m     module \u001b[38;5;241m=\u001b[39m \u001b[38;5;28;43mself\u001b[39;49m\u001b[38;5;241;43m.\u001b[39;49m\u001b[43m_get_module\u001b[49m\u001b[43m(\u001b[49m\u001b[38;5;28;43mself\u001b[39;49m\u001b[38;5;241;43m.\u001b[39;49m\u001b[43m_class_to_module\u001b[49m\u001b[43m[\u001b[49m\u001b[43mname\u001b[49m\u001b[43m]\u001b[49m\u001b[43m)\u001b[49m\n\u001b[0;32m   1067\u001b[0m     value \u001b[38;5;241m=\u001b[39m \u001b[38;5;28mgetattr\u001b[39m(module, name)\n\u001b[0;32m   1068\u001b[0m \u001b[38;5;28;01melse\u001b[39;00m:\n",
      "File \u001b[1;32m~\\anaconda3\\lib\\site-packages\\transformers\\utils\\import_utils.py:1078\u001b[0m, in \u001b[0;36m_LazyModule._get_module\u001b[1;34m(self, module_name)\u001b[0m\n\u001b[0;32m   1076\u001b[0m     \u001b[38;5;28;01mreturn\u001b[39;00m importlib\u001b[38;5;241m.\u001b[39mimport_module(\u001b[38;5;124m\"\u001b[39m\u001b[38;5;124m.\u001b[39m\u001b[38;5;124m\"\u001b[39m \u001b[38;5;241m+\u001b[39m module_name, \u001b[38;5;28mself\u001b[39m\u001b[38;5;241m.\u001b[39m\u001b[38;5;18m__name__\u001b[39m)\n\u001b[0;32m   1077\u001b[0m \u001b[38;5;28;01mexcept\u001b[39;00m \u001b[38;5;167;01mException\u001b[39;00m \u001b[38;5;28;01mas\u001b[39;00m e:\n\u001b[1;32m-> 1078\u001b[0m     \u001b[38;5;28;01mraise\u001b[39;00m \u001b[38;5;167;01mRuntimeError\u001b[39;00m(\n\u001b[0;32m   1079\u001b[0m         \u001b[38;5;124mf\u001b[39m\u001b[38;5;124m\"\u001b[39m\u001b[38;5;124mFailed to import \u001b[39m\u001b[38;5;132;01m{\u001b[39;00m\u001b[38;5;28mself\u001b[39m\u001b[38;5;241m.\u001b[39m\u001b[38;5;18m__name__\u001b[39m\u001b[38;5;132;01m}\u001b[39;00m\u001b[38;5;124m.\u001b[39m\u001b[38;5;132;01m{\u001b[39;00mmodule_name\u001b[38;5;132;01m}\u001b[39;00m\u001b[38;5;124m because of the following error (look up to see its\u001b[39m\u001b[38;5;124m\"\u001b[39m\n\u001b[0;32m   1080\u001b[0m         \u001b[38;5;124mf\u001b[39m\u001b[38;5;124m\"\u001b[39m\u001b[38;5;124m traceback):\u001b[39m\u001b[38;5;130;01m\\n\u001b[39;00m\u001b[38;5;132;01m{\u001b[39;00me\u001b[38;5;132;01m}\u001b[39;00m\u001b[38;5;124m\"\u001b[39m\n\u001b[0;32m   1081\u001b[0m     ) \u001b[38;5;28;01mfrom\u001b[39;00m \u001b[38;5;21;01me\u001b[39;00m\n",
      "\u001b[1;31mRuntimeError\u001b[0m: Failed to import transformers.models.mctct.feature_extraction_mctct because of the following error (look up to see its traceback):\n[WinError 127] 지정된 프로시저를 찾을 수 없습니다"
     ]
    }
   ],
   "source": [
    "from transformers import *"
   ]
  },
  {
   "cell_type": "code",
   "execution_count": 7,
   "id": "b7561c13",
   "metadata": {},
   "outputs": [
    {
     "name": "stdout",
     "output_type": "stream",
     "text": [
      "Collecting sentencepieceNote: you may need to restart the kernel to use updated packages.\n",
      "\n",
      "  Downloading sentencepiece-0.1.97-cp39-cp39-win_amd64.whl (1.1 MB)\n",
      "Installing collected packages: sentencepiece\n",
      "Successfully installed sentencepiece-0.1.97\n"
     ]
    }
   ],
   "source": [
    "pip install sentencepiece"
   ]
  },
  {
   "cell_type": "code",
   "execution_count": 8,
   "id": "bc785aa7",
   "metadata": {},
   "outputs": [
    {
     "name": "stdout",
     "output_type": "stream",
     "text": [
      "Collecting sacremoses\n",
      "  Downloading sacremoses-0.0.53.tar.gz (880 kB)\n",
      "Requirement already satisfied: regex in c:\\users\\admin\\anaconda3\\lib\\site-packages (from sacremoses) (2022.3.15)\n",
      "Requirement already satisfied: six in c:\\users\\admin\\anaconda3\\lib\\site-packages (from sacremoses) (1.16.0)\n",
      "Requirement already satisfied: click in c:\\users\\admin\\anaconda3\\lib\\site-packages (from sacremoses) (8.0.4)\n",
      "Requirement already satisfied: joblib in c:\\users\\admin\\anaconda3\\lib\\site-packages (from sacremoses) (1.1.0)\n",
      "Requirement already satisfied: tqdm in c:\\users\\admin\\anaconda3\\lib\\site-packages (from sacremoses) (4.64.0)\n",
      "Requirement already satisfied: colorama in c:\\users\\admin\\anaconda3\\lib\\site-packages (from click->sacremoses) (0.4.4)\n",
      "Building wheels for collected packages: sacremoses\n",
      "  Building wheel for sacremoses (setup.py): started\n",
      "  Building wheel for sacremoses (setup.py): finished with status 'done'\n",
      "  Created wheel for sacremoses: filename=sacremoses-0.0.53-py3-none-any.whl size=895260 sha256=6eb1ad1e8c7b308b363e957fc5df51b5bf539c4767ae2983ba3b140193c10423\n",
      "  Stored in directory: c:\\users\\admin\\appdata\\local\\pip\\cache\\wheels\\12\\1c\\3d\\46cf06718d63a32ff798a89594b61e7f345ab6b36d909ce033\n",
      "Successfully built sacremoses\n",
      "Installing collected packages: sacremoses\n",
      "Successfully installed sacremoses-0.0.53\n",
      "Note: you may need to restart the kernel to use updated packages.\n"
     ]
    }
   ],
   "source": [
    "pip install sacremoses"
   ]
  },
  {
   "cell_type": "code",
   "execution_count": 13,
   "id": "6ed9de8c",
   "metadata": {},
   "outputs": [
    {
     "name": "stdout",
     "output_type": "stream",
     "text": [
      "Requirement already satisfied: pip in c:\\users\\admin\\anaconda3\\lib\\site-packages (21.2.4)Note: you may need to restart the kernel to use updated packages.\n",
      "Collecting pip\n",
      "  Downloading pip-22.3.1-py3-none-any.whl (2.1 MB)\n",
      "\n",
      "Installing collected packages: pip\n",
      "  Attempting uninstall: pip\n",
      "    Found existing installation: pip 21.2.4\n",
      "    Uninstalling pip-21.2.4:\n",
      "      Successfully uninstalled pip-21.2.4\n",
      "Successfully installed pip-22.3.1\n"
     ]
    }
   ],
   "source": [
    "pip install --upgrade pip"
   ]
  },
  {
   "cell_type": "code",
   "execution_count": null,
   "id": "205b395d",
   "metadata": {},
   "outputs": [],
   "source": []
  },
  {
   "cell_type": "code",
   "execution_count": 10,
   "id": "d3d60e21",
   "metadata": {
    "scrolled": false
   },
   "outputs": [],
   "source": [
    " transformers \n",
    "\n",
    "\n",
    "# import tensorflow as tf\n",
    "# import numpy as np\n",
    "# import pandas as pd\n",
    "# import json\n",
    "# from tqdm import tqdm\n",
    "# import os\n",
    "# import re\n",
    "# import sentencepiece as spm"
   ]
  },
  {
   "cell_type": "code",
   "execution_count": 12,
   "id": "a9136894",
   "metadata": {},
   "outputs": [
    {
     "data": {
      "text/plain": [
       "<module 'transformers.activations' from 'C:\\\\Users\\\\admin\\\\anaconda3\\\\lib\\\\site-packages\\\\transformers\\\\activations.py'>"
      ]
     },
     "execution_count": 12,
     "metadata": {},
     "output_type": "execute_result"
    }
   ],
   "source": [
    "transformers.activations"
   ]
  },
  {
   "cell_type": "code",
   "execution_count": 11,
   "id": "a75682f8",
   "metadata": {},
   "outputs": [
    {
     "name": "stderr",
     "output_type": "stream",
     "text": [
      "Cloning into 'nsmc'...\n",
      "warning: redirecting to https://github.com/e9t/nsmc.git/\n",
      "Updating files:   0% (126/14737)\n",
      "Updating files:   1% (148/14737)\n",
      "Updating files:   2% (295/14737)\n",
      "Updating files:   3% (443/14737)\n",
      "Updating files:   4% (590/14737)\n",
      "Updating files:   5% (737/14737)\n",
      "Updating files:   6% (885/14737)\n",
      "Updating files:   6% (966/14737)\n",
      "Updating files:   7% (1032/14737)\n",
      "Updating files:   8% (1179/14737)\n",
      "Updating files:   9% (1327/14737)\n",
      "Updating files:  10% (1474/14737)\n",
      "Updating files:  11% (1622/14737)\n",
      "Updating files:  12% (1769/14737)\n",
      "Updating files:  13% (1916/14737)\n",
      "Updating files:  13% (1968/14737)\n",
      "Updating files:  14% (2064/14737)\n",
      "Updating files:  15% (2211/14737)\n",
      "Updating files:  16% (2358/14737)\n",
      "Updating files:  17% (2506/14737)\n",
      "Updating files:  18% (2653/14737)\n",
      "Updating files:  18% (2702/14737)\n",
      "Updating files:  19% (2801/14737)\n",
      "Updating files:  20% (2948/14737)\n",
      "Updating files:  21% (3095/14737)\n",
      "Updating files:  22% (3243/14737)\n",
      "Updating files:  23% (3390/14737)\n",
      "Updating files:  23% (3447/14737)\n",
      "Updating files:  23% (3525/14737)\n",
      "Updating files:  24% (3537/14737)\n",
      "Updating files:  25% (3685/14737)\n",
      "Updating files:  26% (3832/14737)\n",
      "Updating files:  27% (3979/14737)\n",
      "Updating files:  28% (4127/14737)\n",
      "Updating files:  29% (4274/14737)\n",
      "Updating files:  30% (4422/14737)\n",
      "Updating files:  30% (4431/14737)\n",
      "Updating files:  31% (4569/14737)\n",
      "Updating files:  32% (4716/14737)\n",
      "Updating files:  33% (4864/14737)\n",
      "Updating files:  34% (5011/14737)\n",
      "Updating files:  35% (5158/14737)\n",
      "Updating files:  35% (5267/14737)\n",
      "Updating files:  36% (5306/14737)\n",
      "Updating files:  37% (5453/14737)\n",
      "Updating files:  38% (5601/14737)\n",
      "Updating files:  39% (5748/14737)\n",
      "Updating files:  40% (5895/14737)\n",
      "Updating files:  41% (6043/14737)\n",
      "Updating files:  42% (6190/14737)\n",
      "Updating files:  43% (6337/14737)\n",
      "Updating files:  43% (6425/14737)\n",
      "Updating files:  44% (6485/14737)\n",
      "Updating files:  45% (6632/14737)\n",
      "Updating files:  46% (6780/14737)\n",
      "Updating files:  47% (6927/14737)\n",
      "Updating files:  48% (7074/14737)\n",
      "Updating files:  49% (7222/14737)\n",
      "Updating files:  49% (7309/14737)\n",
      "Updating files:  50% (7369/14737)\n",
      "Updating files:  51% (7516/14737)\n",
      "Updating files:  52% (7664/14737)\n",
      "Updating files:  53% (7811/14737)\n",
      "Updating files:  53% (7877/14737)\n",
      "Updating files:  54% (7958/14737)\n",
      "Updating files:  55% (8106/14737)\n",
      "Updating files:  56% (8253/14737)\n",
      "Updating files:  57% (8401/14737)\n",
      "Updating files:  58% (8548/14737)\n",
      "Updating files:  59% (8695/14737)\n",
      "Updating files:  59% (8741/14737)\n",
      "Updating files:  60% (8843/14737)\n",
      "Updating files:  61% (8990/14737)\n",
      "Updating files:  62% (9137/14737)\n",
      "Updating files:  63% (9285/14737)\n",
      "Updating files:  64% (9432/14737)\n",
      "Updating files:  65% (9580/14737)\n",
      "Updating files:  66% (9727/14737)\n",
      "Updating files:  66% (9729/14737)\n",
      "Updating files:  67% (9874/14737)\n",
      "Updating files:  68% (10022/14737)\n",
      "Updating files:  69% (10169/14737)\n",
      "Updating files:  69% (10289/14737)\n",
      "Updating files:  70% (10316/14737)\n",
      "Updating files:  71% (10464/14737)\n",
      "Updating files:  72% (10611/14737)\n",
      "Updating files:  73% (10759/14737)\n",
      "Updating files:  73% (10873/14737)\n",
      "Updating files:  74% (10906/14737)\n",
      "Updating files:  75% (11053/14737)\n",
      "Updating files:  76% (11201/14737)\n",
      "Updating files:  77% (11348/14737)\n",
      "Updating files:  77% (11470/14737)\n",
      "Updating files:  78% (11495/14737)\n",
      "Updating files:  79% (11643/14737)\n",
      "Updating files:  80% (11790/14737)\n",
      "Updating files:  81% (11937/14737)\n",
      "Updating files:  82% (12085/14737)\n",
      "Updating files:  83% (12232/14737)\n",
      "Updating files:  84% (12380/14737)\n",
      "Updating files:  85% (12527/14737)\n",
      "Updating files:  85% (12657/14737)\n",
      "Updating files:  86% (12674/14737)\n",
      "Updating files:  87% (12822/14737)\n",
      "Updating files:  88% (12969/14737)\n",
      "Updating files:  89% (13116/14737)\n",
      "Updating files:  90% (13264/14737)\n",
      "Updating files:  90% (13332/14737)\n",
      "Updating files:  91% (13411/14737)\n",
      "Updating files:  92% (13559/14737)\n",
      "Updating files:  93% (13706/14737)\n",
      "Updating files:  94% (13853/14737)\n",
      "Updating files:  95% (14001/14737)\n",
      "Updating files:  95% (14092/14737)\n",
      "Updating files:  96% (14148/14737)\n",
      "Updating files:  97% (14295/14737)\n",
      "Updating files:  98% (14443/14737)\n",
      "Updating files:  99% (14590/14737)\n",
      "Updating files: 100% (14737/14737)\n",
      "Updating files: 100% (14737/14737), done.\n"
     ]
    }
   ],
   "source": [
    "# !git clone http://github.com/e9t/nsmc.git\n"
   ]
  },
  {
   "cell_type": "code",
   "execution_count": 12,
   "id": "2de9fa97",
   "metadata": {},
   "outputs": [
    {
     "ename": "NameError",
     "evalue": "name 'os' is not defined",
     "output_type": "error",
     "traceback": [
      "\u001b[1;31m---------------------------------------------------------------------------\u001b[0m",
      "\u001b[1;31mNameError\u001b[0m                                 Traceback (most recent call last)",
      "Input \u001b[1;32mIn [12]\u001b[0m, in \u001b[0;36m<cell line: 1>\u001b[1;34m()\u001b[0m\n\u001b[1;32m----> 1\u001b[0m \u001b[43mos\u001b[49m\u001b[38;5;241m.\u001b[39mlistdir(\u001b[38;5;124m'\u001b[39m\u001b[38;5;124mnsmc\u001b[39m\u001b[38;5;124m'\u001b[39m)\n",
      "\u001b[1;31mNameError\u001b[0m: name 'os' is not defined"
     ]
    }
   ],
   "source": [
    "os.listdir('nsmc')"
   ]
  },
  {
   "cell_type": "code",
   "execution_count": null,
   "id": "433f5f23",
   "metadata": {},
   "outputs": [],
   "source": [
    "train = pd.read_table"
   ]
  }
 ],
 "metadata": {
  "kernelspec": {
   "display_name": "Python 3 (ipykernel)",
   "language": "python",
   "name": "python3"
  },
  "language_info": {
   "codemirror_mode": {
    "name": "ipython",
    "version": 3
   },
   "file_extension": ".py",
   "mimetype": "text/x-python",
   "name": "python",
   "nbconvert_exporter": "python",
   "pygments_lexer": "ipython3",
   "version": "3.9.12"
  }
 },
 "nbformat": 4,
 "nbformat_minor": 5
}
